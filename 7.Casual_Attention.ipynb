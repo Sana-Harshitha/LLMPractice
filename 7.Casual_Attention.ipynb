{
  "nbformat": 4,
  "nbformat_minor": 0,
  "metadata": {
    "colab": {
      "provenance": [],
      "authorship_tag": "ABX9TyOcPfmuds4NEQgOeUxTYXM8",
      "include_colab_link": true
    },
    "kernelspec": {
      "name": "python3",
      "display_name": "Python 3"
    },
    "language_info": {
      "name": "python"
    }
  },
  "cells": [
    {
      "cell_type": "markdown",
      "metadata": {
        "id": "view-in-github",
        "colab_type": "text"
      },
      "source": [
        "<a href=\"https://colab.research.google.com/github/Sana-Harshitha/LLMPractice/blob/main/Casual_Attention.ipynb\" target=\"_parent\"><img src=\"https://colab.research.google.com/assets/colab-badge.svg\" alt=\"Open In Colab\"/></a>"
      ]
    },
    {
      "cell_type": "code",
      "source": [
        "import torch\n",
        "import torch.nn as nn"
      ],
      "metadata": {
        "id": "aByJmDmV3L9p"
      },
      "execution_count": 3,
      "outputs": []
    },
    {
      "cell_type": "markdown",
      "source": [
        "## HIDING FUTURE WORDS WITH CAUSAL ATTENTION"
      ],
      "metadata": {
        "id": "8r9LtNoU23x0"
      }
    },
    {
      "cell_type": "markdown",
      "source": [
        "Let's work with the attention scores and weights from the previous section to code the causal attention mechanism."
      ],
      "metadata": {
        "id": "ZJ8XCX5Z2_v_"
      }
    },
    {
      "cell_type": "code",
      "source": [
        "inputs = torch.tensor(\n",
        "  [[0.43, 0.15, 0.89], # Your     (x^1)\n",
        "   [0.55, 0.87, 0.66], # journey  (x^2)\n",
        "   [0.57, 0.85, 0.64], # starts   (x^3)\n",
        "   [0.22, 0.58, 0.33], # with     (x^4)\n",
        "   [0.77, 0.25, 0.10], # one      (x^5)\n",
        "   [0.05, 0.80, 0.55]] # step     (x^6)\n",
        ")"
      ],
      "metadata": {
        "id": "HMJFBtES3ppJ"
      },
      "execution_count": 8,
      "outputs": []
    },
    {
      "cell_type": "code",
      "source": [
        "d_in = inputs.shape[1] # 3\n",
        "d_out = 2"
      ],
      "metadata": {
        "id": "1mJmAE6c31or"
      },
      "execution_count": 27,
      "outputs": []
    },
    {
      "cell_type": "code",
      "execution_count": 10,
      "metadata": {
        "id": "6HEarKm-p3DA"
      },
      "outputs": [],
      "source": [
        "class SelfAttention_v2(nn.Module):\n",
        "\n",
        "    def __init__(self, d_in, d_out, qkv_bias=False):\n",
        "        super().__init__()\n",
        "        self.W_query = nn.Linear(d_in, d_out, bias=qkv_bias)\n",
        "        self.W_key   = nn.Linear(d_in, d_out, bias=qkv_bias)\n",
        "        self.W_value = nn.Linear(d_in, d_out, bias=qkv_bias)\n",
        "\n",
        "    def forward(self, x):\n",
        "        keys = self.W_key(x)\n",
        "        queries = self.W_query(x)\n",
        "        values = self.W_value(x)\n",
        "\n",
        "        attn_scores = queries @ keys.T\n",
        "        attn_weights = torch.softmax(attn_scores / keys.shape[-1]**0.5, dim=-1)\n",
        "\n",
        "        context_vec = attn_weights @ values\n",
        "        return context_vec"
      ]
    },
    {
      "cell_type": "code",
      "source": [
        "torch.manual_seed(789)\n",
        "sa_v2 = SelfAttention_v2(d_in, d_out)"
      ],
      "metadata": {
        "id": "2eHDu2vW3Xq0"
      },
      "execution_count": 11,
      "outputs": []
    },
    {
      "cell_type": "code",
      "source": [
        "queries = sa_v2.W_query(inputs) #A\n",
        "keys = sa_v2.W_key(inputs)\n",
        "attn_scores = queries @ keys.T\n",
        "attn_weights = torch.softmax(attn_scores / keys.shape[-1]**0.5, dim=1)\n",
        "print(attn_weights)"
      ],
      "metadata": {
        "colab": {
          "base_uri": "https://localhost:8080/"
        },
        "id": "S1lzfa423DmT",
        "outputId": "c2f6e5a8-28ef-4022-b1fc-c20080cf2dfa"
      },
      "execution_count": 12,
      "outputs": [
        {
          "output_type": "stream",
          "name": "stdout",
          "text": [
            "tensor([[0.1921, 0.1646, 0.1652, 0.1550, 0.1721, 0.1510],\n",
            "        [0.2041, 0.1659, 0.1662, 0.1496, 0.1665, 0.1477],\n",
            "        [0.2036, 0.1659, 0.1662, 0.1498, 0.1664, 0.1480],\n",
            "        [0.1869, 0.1667, 0.1668, 0.1571, 0.1661, 0.1564],\n",
            "        [0.1830, 0.1669, 0.1670, 0.1588, 0.1658, 0.1585],\n",
            "        [0.1935, 0.1663, 0.1666, 0.1542, 0.1666, 0.1529]],\n",
            "       grad_fn=<SoftmaxBackward0>)\n"
          ]
        }
      ]
    },
    {
      "cell_type": "markdown",
      "source": [
        "We can now use PyTorch's tril function to create a mask where the values above the diagonal are zero:"
      ],
      "metadata": {
        "id": "QQVRywF14MTg"
      }
    },
    {
      "cell_type": "code",
      "source": [
        "context_length = attn_scores.shape[0]\n",
        "mask_simple = torch.tril(torch.ones(context_length, context_length))\n",
        "print(mask_simple)"
      ],
      "metadata": {
        "colab": {
          "base_uri": "https://localhost:8080/"
        },
        "id": "mTG7Jr823SoG",
        "outputId": "0324c7fd-b3c0-46f5-b1d5-aa50a36c3982"
      },
      "execution_count": 14,
      "outputs": [
        {
          "output_type": "stream",
          "name": "stdout",
          "text": [
            "tensor([[1., 0., 0., 0., 0., 0.],\n",
            "        [1., 1., 0., 0., 0., 0.],\n",
            "        [1., 1., 1., 0., 0., 0.],\n",
            "        [1., 1., 1., 1., 0., 0.],\n",
            "        [1., 1., 1., 1., 1., 0.],\n",
            "        [1., 1., 1., 1., 1., 1.]])\n"
          ]
        }
      ]
    },
    {
      "cell_type": "markdown",
      "source": [
        "\n",
        "Now, we can multiply this mask with the attention weights to zero out the values above the diagonal:"
      ],
      "metadata": {
        "id": "8HK5WYx74XTG"
      }
    },
    {
      "cell_type": "code",
      "source": [
        "masked_simple = attn_weights*mask_simple\n",
        "print(masked_simple)"
      ],
      "metadata": {
        "colab": {
          "base_uri": "https://localhost:8080/"
        },
        "id": "0tPqL5yu4Lqa",
        "outputId": "f4b58408-0378-4636-f608-de239911694a"
      },
      "execution_count": 15,
      "outputs": [
        {
          "output_type": "stream",
          "name": "stdout",
          "text": [
            "tensor([[0.1921, 0.0000, 0.0000, 0.0000, 0.0000, 0.0000],\n",
            "        [0.2041, 0.1659, 0.0000, 0.0000, 0.0000, 0.0000],\n",
            "        [0.2036, 0.1659, 0.1662, 0.0000, 0.0000, 0.0000],\n",
            "        [0.1869, 0.1667, 0.1668, 0.1571, 0.0000, 0.0000],\n",
            "        [0.1830, 0.1669, 0.1670, 0.1588, 0.1658, 0.0000],\n",
            "        [0.1935, 0.1663, 0.1666, 0.1542, 0.1666, 0.1529]],\n",
            "       grad_fn=<MulBackward0>)\n"
          ]
        }
      ]
    },
    {
      "cell_type": "markdown",
      "source": [
        "As we can see, the elements above the diagonal are successfully zeroed out\n",
        "\n",
        "The third step is to renormalize the attention weights to sum up to 1 again in each row.\n",
        "\n",
        "We can achieve this by dividing each element in each row by the sum in each row:"
      ],
      "metadata": {
        "id": "bfIIuZUw4eFx"
      }
    },
    {
      "cell_type": "code",
      "source": [
        "row_sums = masked_simple.sum(dim=1, keepdim=True)\n",
        "masked_simple_norm = masked_simple / row_sums\n",
        "print(masked_simple_norm)"
      ],
      "metadata": {
        "colab": {
          "base_uri": "https://localhost:8080/"
        },
        "id": "pwPooTJd4U7N",
        "outputId": "08d6e9ad-3476-4eb6-e620-4774b576df22"
      },
      "execution_count": 16,
      "outputs": [
        {
          "output_type": "stream",
          "name": "stdout",
          "text": [
            "tensor([[1.0000, 0.0000, 0.0000, 0.0000, 0.0000, 0.0000],\n",
            "        [0.5517, 0.4483, 0.0000, 0.0000, 0.0000, 0.0000],\n",
            "        [0.3800, 0.3097, 0.3103, 0.0000, 0.0000, 0.0000],\n",
            "        [0.2758, 0.2460, 0.2462, 0.2319, 0.0000, 0.0000],\n",
            "        [0.2175, 0.1983, 0.1984, 0.1888, 0.1971, 0.0000],\n",
            "        [0.1935, 0.1663, 0.1666, 0.1542, 0.1666, 0.1529]],\n",
            "       grad_fn=<DivBackward0>)\n"
          ]
        }
      ]
    },
    {
      "cell_type": "markdown",
      "source": [],
      "metadata": {
        "id": "HTWhM30t4wvi"
      }
    },
    {
      "cell_type": "markdown",
      "metadata": {
        "id": "QzG0WYwEpNUv"
      },
      "source": [
        "<div class=\"alert alert-block alert-info\">\n",
        "\n",
        "The result is an attention weight matrix where the attention weights above the diagonal are\n",
        "zeroed out and where the rows sum to 1.\n",
        "\n",
        "</div>"
      ]
    },
    {
      "cell_type": "markdown",
      "metadata": {
        "id": "SzsiwJzopNUv"
      },
      "source": [
        "<div class=\"alert alert-block alert-success\">\n",
        "\n",
        "While we could be technically done with implementing causal attention at this point, we can\n",
        "take advantage of a mathematical property of the softmax function.\n",
        "\n",
        "We can implement the computation of the masked attention weights more efficiently in fewer steps.\n",
        "\n",
        "</div>"
      ]
    },
    {
      "cell_type": "markdown",
      "metadata": {
        "id": "ZDK1TD_PpNUw"
      },
      "source": [
        "<div class=\"alert alert-block alert-success\">\n",
        "\n",
        "The softmax function converts its inputs into a probability distribution.\n",
        "\n",
        "When negative\n",
        "infinity values (-∞) are present in a row, the softmax function treats them as zero\n",
        "probability.\n",
        "\n",
        "(Mathematically, this is because e\n",
        "-∞ approaches 0.)\n",
        "\n",
        "\n",
        "We can implement this more efficient masking \"trick\" by creating a mask with 1's above\n",
        "the diagonal and then replacing these 1's with negative infinity (-inf) values:\n",
        "\n",
        "</div>"
      ]
    },
    {
      "cell_type": "code",
      "source": [
        "mask = torch.triu(torch.ones(context_length, context_length), diagonal=1)\n",
        "masked = attn_scores.masked_fill(mask.bool(), -torch.inf)\n",
        "print(masked)"
      ],
      "metadata": {
        "colab": {
          "base_uri": "https://localhost:8080/"
        },
        "id": "Y3_PjLES4jQe",
        "outputId": "4eb93f62-d666-4f74-ead5-29993e8d95a5"
      },
      "execution_count": 17,
      "outputs": [
        {
          "output_type": "stream",
          "name": "stdout",
          "text": [
            "tensor([[0.2899,   -inf,   -inf,   -inf,   -inf,   -inf],\n",
            "        [0.4656, 0.1723,   -inf,   -inf,   -inf,   -inf],\n",
            "        [0.4594, 0.1703, 0.1731,   -inf,   -inf,   -inf],\n",
            "        [0.2642, 0.1024, 0.1036, 0.0186,   -inf,   -inf],\n",
            "        [0.2183, 0.0874, 0.0882, 0.0177, 0.0786,   -inf],\n",
            "        [0.3408, 0.1270, 0.1290, 0.0198, 0.1290, 0.0078]],\n",
            "       grad_fn=<MaskedFillBackward0>)\n"
          ]
        }
      ]
    },
    {
      "cell_type": "markdown",
      "source": [
        "Now, all we need to do is apply the softmax function to these masked results, and we are done."
      ],
      "metadata": {
        "id": "73LhX5WF45eL"
      }
    },
    {
      "cell_type": "code",
      "source": [
        "attn_weights = torch.softmax(masked / keys.shape[-1]**0.5, dim=1)\n",
        "print(attn_weights)"
      ],
      "metadata": {
        "colab": {
          "base_uri": "https://localhost:8080/"
        },
        "id": "rmgGUc6241o5",
        "outputId": "59142cef-4585-4597-9da1-425186b6213a"
      },
      "execution_count": 18,
      "outputs": [
        {
          "output_type": "stream",
          "name": "stdout",
          "text": [
            "tensor([[1.0000, 0.0000, 0.0000, 0.0000, 0.0000, 0.0000],\n",
            "        [0.5517, 0.4483, 0.0000, 0.0000, 0.0000, 0.0000],\n",
            "        [0.3800, 0.3097, 0.3103, 0.0000, 0.0000, 0.0000],\n",
            "        [0.2758, 0.2460, 0.2462, 0.2319, 0.0000, 0.0000],\n",
            "        [0.2175, 0.1983, 0.1984, 0.1888, 0.1971, 0.0000],\n",
            "        [0.1935, 0.1663, 0.1666, 0.1542, 0.1666, 0.1529]],\n",
            "       grad_fn=<SoftmaxBackward0>)\n"
          ]
        }
      ]
    },
    {
      "cell_type": "markdown",
      "metadata": {
        "id": "KxAHXOHopNUx"
      },
      "source": [
        "<div class=\"alert alert-block alert-info\">\n",
        "\n",
        "As we can see based on the output, the values in each row sum to 1, and no further\n",
        "normalization is necessary.\n",
        "\n",
        "</div>"
      ]
    },
    {
      "cell_type": "markdown",
      "metadata": {
        "id": "WrqRps6kpNUy"
      },
      "source": [
        "<div class=\"alert alert-block alert-warning\">\n",
        "\n",
        "Masking in Transformers sets scores for future tokens to a large negative value, making their influence in the softmax calculation effectively zero.\n",
        "\n",
        "The softmax function then recalculates attention weights only among the unmasked tokens.\n",
        "\n",
        "This process ensures no information leakage from masked tokens, focusing the model solely on the intended data.\n",
        "\n",
        "</div>"
      ]
    },
    {
      "cell_type": "markdown",
      "metadata": {
        "id": "P_MVNuTQpNUy"
      },
      "source": [
        "<div class=\"alert alert-block alert-warning\">\n",
        "\n",
        "We could now use the modified attention weights to compute the context vectors via\n",
        "context_vec = attn_weights @ values.\n",
        "\n",
        "However, in the next section,\n",
        "we first cover another minor tweak to the causal attention mechanism that is useful for\n",
        "reducing overfitting when training LLMs.\n",
        "\n",
        "</div>"
      ]
    },
    {
      "cell_type": "markdown",
      "source": [
        "#MASKING ADDITIONAL ATTENTION WEIGHTS WITH DROPOUT\n"
      ],
      "metadata": {
        "id": "_IhsbPqZ5N5o"
      }
    },
    {
      "cell_type": "markdown",
      "source": [],
      "metadata": {
        "id": "le5fpkjd5Nqq"
      }
    },
    {
      "cell_type": "markdown",
      "metadata": {
        "id": "Wuh5cb0kpNUz"
      },
      "source": [
        "<div class=\"alert alert-block alert-success\">\n",
        "\n",
        "In the following code example, we use a dropout rate of 50%, which means masking out\n",
        "half of the attention weights.\n",
        "\n",
        "When we train the GPT model in later chapters, we will use a\n",
        "lower dropout rate, such as 0.1 or 0.2.\n",
        "</div>"
      ]
    },
    {
      "cell_type": "markdown",
      "metadata": {
        "id": "MJvtrHgypNUz"
      },
      "source": [
        "<div class=\"alert alert-block alert-success\">\n",
        "\n",
        "In the following code, we apply PyTorch's dropout implementation first to a 6×6 tensor\n",
        "consisting of ones for illustration purposes:\n",
        "</div>"
      ]
    },
    {
      "cell_type": "code",
      "source": [
        "torch.manual_seed(123)\n",
        "dropout = torch.nn.Dropout(0.5) #A\n",
        "example = torch.ones(6, 6) #B\n",
        "print(dropout(example))"
      ],
      "metadata": {
        "colab": {
          "base_uri": "https://localhost:8080/"
        },
        "id": "QWrt8c9q48mE",
        "outputId": "8d697579-23e3-4b6f-f3da-3e2de1575a0f"
      },
      "execution_count": 19,
      "outputs": [
        {
          "output_type": "stream",
          "name": "stdout",
          "text": [
            "tensor([[2., 2., 2., 2., 2., 2.],\n",
            "        [0., 2., 0., 0., 0., 0.],\n",
            "        [0., 0., 2., 0., 2., 0.],\n",
            "        [2., 2., 0., 0., 0., 2.],\n",
            "        [2., 0., 0., 0., 0., 2.],\n",
            "        [0., 2., 0., 0., 0., 0.]])\n"
          ]
        }
      ]
    },
    {
      "cell_type": "markdown",
      "metadata": {
        "id": "hyZ2OY6jpNU1"
      },
      "source": [
        "<div class=\"alert alert-block alert-info\">\n",
        "\n",
        "When applying dropout to an attention weight matrix with a rate of 50%, half of the\n",
        "elements in the matrix are randomly set to zero.\n",
        "\n",
        "To compensate for the reduction in active\n",
        "elements, the values of the remaining elements in the matrix are scaled up by a factor of\n",
        "1/0.5 =2.\n",
        "\n",
        "This scaling is crucial to maintain the overall balance of the attention weights,\n",
        "ensuring that the average influence of the attention mechanism remains consistent during\n",
        "both the training and inference phases.\n",
        "</div>"
      ]
    },
    {
      "cell_type": "markdown",
      "metadata": {
        "id": "Y-yHfvmrpNU1"
      },
      "source": [
        "<div class=\"alert alert-block alert-success\">\n",
        "\n",
        "Now, let's apply dropout to the attention weight matrix itself:\n",
        "\n",
        "</div>"
      ]
    },
    {
      "cell_type": "code",
      "source": [
        "torch.manual_seed(123)\n",
        "print(dropout(attn_weights))"
      ],
      "metadata": {
        "colab": {
          "base_uri": "https://localhost:8080/"
        },
        "id": "yF7iZrJA5dlj",
        "outputId": "34ec3389-aa84-469c-c836-4dd01b2ed2f6"
      },
      "execution_count": 20,
      "outputs": [
        {
          "output_type": "stream",
          "name": "stdout",
          "text": [
            "tensor([[2.0000, 0.0000, 0.0000, 0.0000, 0.0000, 0.0000],\n",
            "        [0.0000, 0.8966, 0.0000, 0.0000, 0.0000, 0.0000],\n",
            "        [0.0000, 0.0000, 0.6206, 0.0000, 0.0000, 0.0000],\n",
            "        [0.5517, 0.4921, 0.0000, 0.0000, 0.0000, 0.0000],\n",
            "        [0.4350, 0.0000, 0.0000, 0.0000, 0.0000, 0.0000],\n",
            "        [0.0000, 0.3327, 0.0000, 0.0000, 0.0000, 0.0000]],\n",
            "       grad_fn=<MulBackward0>)\n"
          ]
        }
      ]
    },
    {
      "cell_type": "markdown",
      "source": [],
      "metadata": {
        "id": "MEC9_OBo5s0G"
      }
    },
    {
      "cell_type": "markdown",
      "metadata": {
        "id": "UAI0a0n35jSg"
      },
      "source": [
        "<div class=\"alert alert-block alert-info\">\n",
        "\n",
        "When applying dropout to an attention weight matrix with a rate of 50%, half of the\n",
        "elements in the matrix are randomly set to zero.\n",
        "\n",
        "To compensate for the reduction in active\n",
        "elements, the values of the remaining elements in the matrix are scaled up by a factor of\n",
        "1/0.5 =2.\n",
        "\n",
        "This scaling is crucial to maintain the overall balance of the attention weights,\n",
        "ensuring that the average influence of the attention mechanism remains consistent during\n",
        "both the training and inference phases.\n",
        "</div>"
      ]
    },
    {
      "cell_type": "markdown",
      "metadata": {
        "id": "5g21IKbY5jSh"
      },
      "source": [
        "<div class=\"alert alert-block alert-success\">\n",
        "\n",
        "Now, let's apply dropout to the attention weight matrix itself:\n",
        "\n",
        "</div>"
      ]
    },
    {
      "cell_type": "markdown",
      "metadata": {
        "id": "7uMPWitJpNU2"
      },
      "source": [
        "<div class=\"alert alert-block alert-info\">\n",
        "\n",
        "As we can see above, the resulting attention weight matrix now has additional elements zeroed out and the\n",
        "remaining ones rescaled.\n",
        "    \n",
        "</div>"
      ]
    },
    {
      "cell_type": "markdown",
      "metadata": {
        "id": "xe3b_Na1pNU3"
      },
      "source": [
        "<div class=\"alert alert-block alert-warning\">\n",
        "\n",
        "Having gained an understanding of causal attention and dropout masking, we will\n",
        "develop a concise Python class in the following section.\n",
        "\n",
        "This class is designed to facilitate\n",
        "the efficient application of these two techniques.\n",
        "\n",
        "</div>"
      ]
    },
    {
      "cell_type": "markdown",
      "metadata": {
        "id": "1LvWCd9bpNU3"
      },
      "source": [
        "### IMPLEMENTING A COMPACT CAUSAL ATTENTION CLASS"
      ]
    },
    {
      "cell_type": "markdown",
      "metadata": {
        "id": "qUtkSZcNpNU3"
      },
      "source": [
        "<div class=\"alert alert-block alert-success\">\n",
        "\n",
        "In this section, we will now incorporate the causal attention and dropout modifications into\n",
        "the SelfAttention Python class we developed in section 3.4.\n",
        "\n",
        "This class will then serve as a\n",
        "template for developing multi-head attention in the upcoming section.\n",
        "\n",
        "</div>"
      ]
    },
    {
      "cell_type": "markdown",
      "metadata": {
        "id": "YDUWXD9CpNU4"
      },
      "source": [
        "<div class=\"alert alert-block alert-success\">\n",
        "\n",
        "Before we begin, one more thing is to ensure that the code can handle batches\n",
        "consisting of more than one input.\n",
        "\n",
        "This will ensure that the CausalAttention class supports the batch\n",
        "outputs produced by the data loader we implemented earlier.\n",
        "\n",
        "</div>"
      ]
    },
    {
      "cell_type": "markdown",
      "metadata": {
        "id": "FnDb4q2DpNU4"
      },
      "source": [
        "<div class=\"alert alert-block alert-success\">\n",
        "\n",
        "For simplicity, to simulate such batch inputs, we duplicate the input text example:\n",
        "\n",
        "</div>"
      ]
    },
    {
      "cell_type": "markdown",
      "metadata": {
        "id": "xtGyCMyhpNU4"
      },
      "source": [
        "<div class=\"alert alert-block alert-info\">\n",
        "\n",
        " 2 inputs with 6 tokens each, and each token has embedding dimension 3\n",
        "    \n",
        "</div>"
      ]
    },
    {
      "cell_type": "code",
      "source": [
        "batch = torch.stack((inputs, inputs), dim=0)\n",
        "print(batch.shape)"
      ],
      "metadata": {
        "colab": {
          "base_uri": "https://localhost:8080/"
        },
        "id": "TzyztTsK5nGa",
        "outputId": "1c57936a-8a6e-486e-d5e2-57d813ccd7d1"
      },
      "execution_count": 21,
      "outputs": [
        {
          "output_type": "stream",
          "name": "stdout",
          "text": [
            "torch.Size([2, 6, 3])\n"
          ]
        }
      ]
    },
    {
      "cell_type": "code",
      "source": [
        "batch"
      ],
      "metadata": {
        "colab": {
          "base_uri": "https://localhost:8080/"
        },
        "id": "gpvFei8O6ekl",
        "outputId": "73bdc7ff-83b7-4d84-985a-14d22f6e3cf5"
      },
      "execution_count": 22,
      "outputs": [
        {
          "output_type": "execute_result",
          "data": {
            "text/plain": [
              "tensor([[[0.4300, 0.1500, 0.8900],\n",
              "         [0.5500, 0.8700, 0.6600],\n",
              "         [0.5700, 0.8500, 0.6400],\n",
              "         [0.2200, 0.5800, 0.3300],\n",
              "         [0.7700, 0.2500, 0.1000],\n",
              "         [0.0500, 0.8000, 0.5500]],\n",
              "\n",
              "        [[0.4300, 0.1500, 0.8900],\n",
              "         [0.5500, 0.8700, 0.6600],\n",
              "         [0.5700, 0.8500, 0.6400],\n",
              "         [0.2200, 0.5800, 0.3300],\n",
              "         [0.7700, 0.2500, 0.1000],\n",
              "         [0.0500, 0.8000, 0.5500]]])"
            ]
          },
          "metadata": {},
          "execution_count": 22
        }
      ]
    },
    {
      "cell_type": "markdown",
      "source": [],
      "metadata": {
        "id": "X0XinX3w6oAv"
      }
    },
    {
      "cell_type": "markdown",
      "metadata": {
        "id": "qZm82QAapNU5"
      },
      "source": [
        "<div class=\"alert alert-block alert-info\">\n",
        "\n",
        "This results in a 3D tensor consisting of 2 input texts with 6 tokens each, where each token\n",
        "is a 3-dimensional embedding vector.\n",
        "    \n",
        "</div>"
      ]
    },
    {
      "cell_type": "markdown",
      "metadata": {
        "id": "vuvyZ8VDpNU5"
      },
      "source": [
        "<div class=\"alert alert-block alert-success\">\n",
        "\n",
        "The following CausalAttention class is similar to the SelfAttention class we\n",
        "implemented earlier, except that we now added the dropout and causal mask components\n",
        "as highlighted in the following code.\n",
        "    \n",
        "</div>"
      ]
    },
    {
      "cell_type": "markdown",
      "metadata": {
        "id": "WXqoAS_ApNU6"
      },
      "source": [
        "<div class=\"alert alert-block alert-info\">\n",
        "\n",
        "Step 1: Compared to the previous SelfAttention_v1 class, we added a dropout layer.\n",
        "    \n",
        "Step 2: The register_buffer call is also a new addition (more information is provided in the following text).\n",
        "\n",
        "Step 3:  We transpose dimensions 1 and 2, keeping the batch dimension at the first position (0).\n",
        "\n",
        "Step 4: In PyTorch, operations with a trailing underscore are performed in-place, avoiding unnecessary memory\n",
        "copies\n",
        "    \n",
        "</div>"
      ]
    },
    {
      "cell_type": "code",
      "source": [
        "class CausalAttention(nn.Module):\n",
        "\n",
        "    def __init__(self, d_in, d_out, context_length,\n",
        "                 dropout, qkv_bias=False):\n",
        "        super().__init__()\n",
        "        self.d_out = d_out\n",
        "        self.W_query = nn.Linear(d_in, d_out, bias=qkv_bias)\n",
        "        self.W_key   = nn.Linear(d_in, d_out, bias=qkv_bias)\n",
        "        self.W_value = nn.Linear(d_in, d_out, bias=qkv_bias)\n",
        "        self.dropout = nn.Dropout(dropout) # New\n",
        "        self.register_buffer('mask', torch.triu(torch.ones(context_length, context_length), diagonal=1)) # New\n",
        "\n",
        "    def forward(self, x):\n",
        "        b, num_tokens, d_in = x.shape # New batch dimension b\n",
        "        keys = self.W_key(x)\n",
        "        queries = self.W_query(x)\n",
        "        values = self.W_value(x)\n",
        "\n",
        "        attn_scores = queries @ keys.transpose(1, 2) # Changed transpose\n",
        "        attn_scores.masked_fill_(  # New, _ ops are in-place\n",
        "            self.mask.bool()[:num_tokens, :num_tokens], -torch.inf)  # `:num_tokens` to account for cases where the number of tokens in the batch is smaller than the supported context_size\n",
        "        attn_weights = torch.softmax(\n",
        "            attn_scores / keys.shape[-1]**0.5, dim=-1\n",
        "        )\n",
        "        attn_weights = self.dropout(attn_weights) # New\n",
        "\n",
        "        context_vec = attn_weights @ values\n",
        "        return context_vec"
      ],
      "metadata": {
        "id": "DCfcsKj46gsf"
      },
      "execution_count": 23,
      "outputs": []
    },
    {
      "cell_type": "markdown",
      "metadata": {
        "id": "dtVQRD7apNU7"
      },
      "source": [
        "<div class=\"alert alert-block alert-warning\">\n",
        "\n",
        "The use of register_buffer in\n",
        "PyTorch is not strictly necessary for all use cases but offers several advantages here.\n",
        "\n",
        "For\n",
        "instance, when we use the CausalAttention class in our LLM, buffers are automatically\n",
        "moved to the appropriate device (CPU or GPU) along with our model, which will be relevant\n",
        "when training the LLM in future chapters.\n",
        "\n",
        "This means we don't need to manually ensure\n",
        "these tensors are on the same device as your model parameters, avoiding device mismatch\n",
        "errors.\n",
        "\n",
        "</div>"
      ]
    },
    {
      "cell_type": "markdown",
      "metadata": {
        "id": "ytNU6YKtpNU7"
      },
      "source": [
        "<div class=\"alert alert-block alert-success\">\n",
        "\n",
        "We can use the CausalAttention class as follows, similar to SelfAttention previously:\n",
        "    \n",
        "</div>"
      ]
    },
    {
      "cell_type": "code",
      "source": [
        "torch.manual_seed(123)\n",
        "context_length = batch.shape[1]\n",
        "ca = CausalAttention(d_in, d_out, context_length, 0.0)\n",
        "context_vecs = ca(batch)\n",
        "print(\"context_vecs.shape:\", context_vecs.shape)"
      ],
      "metadata": {
        "colab": {
          "base_uri": "https://localhost:8080/"
        },
        "id": "OsXF28Sm6vGK",
        "outputId": "f97c7c00-1a90-480a-cade-ebc54b1c4dd7"
      },
      "execution_count": 24,
      "outputs": [
        {
          "output_type": "stream",
          "name": "stdout",
          "text": [
            "context_vecs.shape: torch.Size([2, 6, 2])\n"
          ]
        }
      ]
    },
    {
      "cell_type": "markdown",
      "source": [
        "As we can see, the resulting context vector is a 3D tensor where each token is now represented by a 2D embedding:"
      ],
      "metadata": {
        "id": "JD_Dm6vR7xMm"
      }
    },
    {
      "cell_type": "code",
      "source": [
        "batch.shape[1],d_in,d_out"
      ],
      "metadata": {
        "colab": {
          "base_uri": "https://localhost:8080/"
        },
        "id": "aS32nRxC623x",
        "outputId": "531abf49-37d5-43ea-d42e-8f216294b467"
      },
      "execution_count": 26,
      "outputs": [
        {
          "output_type": "execute_result",
          "data": {
            "text/plain": [
              "(6, 3, 2)"
            ]
          },
          "metadata": {},
          "execution_count": 26
        }
      ]
    },
    {
      "cell_type": "code",
      "source": [
        "context_vecs"
      ],
      "metadata": {
        "colab": {
          "base_uri": "https://localhost:8080/"
        },
        "id": "5BH8fDzj7D7u",
        "outputId": "0781e4fd-8ec3-4312-91da-f3a37517d434"
      },
      "execution_count": 28,
      "outputs": [
        {
          "output_type": "execute_result",
          "data": {
            "text/plain": [
              "tensor([[[-0.4519,  0.2216],\n",
              "         [-0.5874,  0.0058],\n",
              "         [-0.6300, -0.0632],\n",
              "         [-0.5675, -0.0843],\n",
              "         [-0.5526, -0.0981],\n",
              "         [-0.5299, -0.1081]],\n",
              "\n",
              "        [[-0.4519,  0.2216],\n",
              "         [-0.5874,  0.0058],\n",
              "         [-0.6300, -0.0632],\n",
              "         [-0.5675, -0.0843],\n",
              "         [-0.5526, -0.0981],\n",
              "         [-0.5299, -0.1081]]], grad_fn=<UnsafeViewBackward0>)"
            ]
          },
          "metadata": {},
          "execution_count": 28
        }
      ]
    },
    {
      "cell_type": "code",
      "source": [],
      "metadata": {
        "id": "iSS3m6cn68_e"
      },
      "execution_count": null,
      "outputs": []
    }
  ]
}